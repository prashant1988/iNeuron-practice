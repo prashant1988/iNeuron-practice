{
 "cells": [
  {
   "cell_type": "markdown",
   "metadata": {},
   "source": [
    "## 2.Problem Statement \n",
    "# Task 1:"
   ]
  },
  {
   "cell_type": "markdown",
   "metadata": {},
   "source": [
    "# 1.Install Jupyter notebook and run the first program and share the screenshot of the output."
   ]
  },
  {
   "cell_type": "code",
   "execution_count": 1,
   "metadata": {
    "scrolled": true
   },
   "outputs": [
    {
     "name": "stdout",
     "output_type": "stream",
     "text": [
      "Hello Python!!\n"
     ]
    }
   ],
   "source": [
    "print(\"Hello Python!!\")"
   ]
  },
  {
   "cell_type": "markdown",
   "metadata": {},
   "source": [
    "# 2.Write a program which will find all such numbers which are divisible by 7 but are not a multiple of 5, between 2000 and 3200 (both included). The numbers obtained should be printed in a comma-separated sequence on a single line.\n"
   ]
  },
  {
   "cell_type": "code",
   "execution_count": 216,
   "metadata": {},
   "outputs": [
    {
     "name": "stdout",
     "output_type": "stream",
     "text": [
      "2002,2009,2016,2023,2037,2044,2051,2058,2072,2079,2086,2093,2107,2114,2121,2128,2142,2149,2156,2163,2177,2184,2191,2198,2212,2219,2226,2233,2247,2254,2261,2268,2282,2289,2296,2303,2317,2324,2331,2338,2352,2359,2366,2373,2387,2394,2401,2408,2422,2429,2436,2443,2457,2464,2471,2478,2492,2499,2506,2513,2527,2534,2541,2548,2562,2569,2576,2583,2597,2604,2611,2618,2632,2639,2646,2653,2667,2674,2681,2688,2702,2709,2716,2723,2737,2744,2751,2758,2772,2779,2786,2793,2807,2814,2821,2828,2842,2849,2856,2863,2877,2884,2891,2898,2912,2919,2926,2933,2947,2954,2961,2968,2982,2989,2996,3003,3017,3024,3031,3038,3052,3059,3066,3073,3087,3094,3101,3108,3122,3129,3136,3143,3157,3164,3171,3178,3192,3199\n"
     ]
    }
   ],
   "source": [
    "\n",
    "ls=[]    #decelared a blank list will use store all values\n",
    "for x in range(2000,3200+1):  #looping 2000 to 3200 upper limit exculde in range so added one more here\n",
    "  if (x%7==0) and (x%5!=0): # Divisibale by 7 but not multiple of 5\n",
    "    ls.append(str(x))  #push/append actual values to list ls\n",
    "print (','.join(ls))   #finally here print in comma seperated values."
   ]
  },
  {
   "cell_type": "markdown",
   "metadata": {},
   "source": [
    "\n",
    "# 3.Write a Python program to accept the user's first and last name and then getting them printed in the the reverse order with a space between first name and last name."
   ]
  },
  {
   "cell_type": "code",
   "execution_count": 3,
   "metadata": {},
   "outputs": [
    {
     "name": "stdout",
     "output_type": "stream",
     "text": [
      "Enter your first name Ram\n",
      "Enter your lats name Suman\n",
      "Suman Ram\n"
     ]
    }
   ],
   "source": [
    "F_name= input(\"Enter your first name \")  #input for first_name\n",
    "L_name= input(\"Enter your lats name \")   #input for last_name\n",
    "print(L_name +' '+ F_name)               #printed in reverse order."
   ]
  },
  {
   "cell_type": "markdown",
   "metadata": {},
   "source": [
    "# 4.Write a Python program to find the volume of a sphere with diameter 12 cm. Formula: V=4/3 * π * r 3"
   ]
  },
  {
   "cell_type": "code",
   "execution_count": 218,
   "metadata": {
    "scrolled": true
   },
   "outputs": [
    {
     "name": "stdout",
     "output_type": "stream",
     "text": [
      "Volume of spahere is 4/3*π*rˆ3 = 904.3199999999998\n"
     ]
    }
   ],
   "source": [
    "diameter =12     # given diameter\n",
    "r=12/2           # calculate radius \n",
    "volume=4/3*3.14*r*r*r   #apply formula\n",
    "print('Volume of spahere is 4/3*π*rˆ3 =', volume) #print value."
   ]
  },
  {
   "cell_type": "markdown",
   "metadata": {},
   "source": [
    "# # Task 2:\n",
    "\n",
    "# 1. Write a program which accepts a sequence of comma-separated numbers from console and generate a list.\n"
   ]
  },
  {
   "cell_type": "code",
   "execution_count": null,
   "metadata": {},
   "outputs": [],
   "source": [
    "ls=input(\"Enter comman seperated values here \")\n",
    "new_list.append(ls)\n",
    "print(new_list)\n",
    "\n"
   ]
  },
  {
   "cell_type": "markdown",
   "metadata": {},
   "source": [
    "# 2.Create the below pattern using nested for loop in Python.\n",
    "\n",
    "*\n",
    "** \n",
    "***\n",
    "****\n",
    "***** \n",
    "****\n",
    "***\n",
    "**\n",
    "*"
   ]
  },
  {
   "cell_type": "code",
   "execution_count": 119,
   "metadata": {},
   "outputs": [
    {
     "name": "stdout",
     "output_type": "stream",
     "text": [
      "*\r\n",
      "**\r\n",
      "***\r\n",
      "****\r\n",
      "*****\r\n",
      "****\r\n",
      "***\r\n",
      "**\r\n",
      "*\r\n",
      "\r\n"
     ]
    }
   ],
   "source": [
    "# upper outer for loop handle number of rows \n",
    "for i in range(0,5):\n",
    "    # Inner for loop handle number of colums\n",
    "    for j in range(0,i+1):\n",
    "        # printing stars \n",
    "        print(\"*\",end=\"\") \n",
    "    print('\\r')    \n",
    "# lower outer for loop     \n",
    "for k in range (5,0,-1):\n",
    "    for l in range(0, k - 1):\n",
    "        #printing start in decresing order will loop on k value as 3,2,1\n",
    "        print(\"*\", end=\"\")\n",
    "    print(\"\\r\")\n"
   ]
  },
  {
   "cell_type": "markdown",
   "metadata": {},
   "source": [
    "# 3.Write a Python program to reverse a word after accepting the input from the user."
   ]
  },
  {
   "cell_type": "code",
   "execution_count": 138,
   "metadata": {},
   "outputs": [
    {
     "name": "stdout",
     "output_type": "stream",
     "text": [
      "Enter your text here:- AcadGild\n",
      "reverse of word is dliGdacA\n"
     ]
    }
   ],
   "source": [
    "#input text \n",
    "word=input(\"Enter your text here:- \")\n",
    "#With help of list properties reversing whoele string here,\n",
    "print ('reverse of word is '+ word[::-1])"
   ]
  },
  {
   "cell_type": "markdown",
   "metadata": {},
   "source": [
    "# 4.Write a Python Program to print the given string in the format specified in the sample output.\n",
    "WE, THE PEOPLE OF INDIA, having solemnly resolved to constitute India into a SOVEREIGN, SOCIALIST, SECULAR, DEMOCRATIC REPUBLIC and to secure to all its citizens"
   ]
  },
  {
   "cell_type": "code",
   "execution_count": 191,
   "metadata": {},
   "outputs": [
    {
     "name": "stdout",
     "output_type": "stream",
     "text": [
      "WE, THE PEOPLE OF INDIA,\n",
      "\thaving solemnly resolved to constitute India into a SOVEREIGN,!\r\n",
      "\t\tSOCIALIST, SECULAR, DEMOCRATIC REPUBLIC\r\n",
      "\t\t and to secure to all its citizens\n"
     ]
    }
   ],
   "source": [
    "print(\"WE, THE PEOPLE OF INDIA,\")\n",
    "print(\"\\thaving solemnly resolved to constitute India into a SOVEREIGN,!\\r\")\n",
    "print(\"\\t\\tSOCIALIST, SECULAR, DEMOCRATIC REPUBLIC\"+ \"\\r\")\n",
    "print(\"\\t\\t and to secure to all its citizens\")"
   ]
  }
 ],
 "metadata": {
  "kernelspec": {
   "display_name": "Python 3",
   "language": "python",
   "name": "python3"
  },
  "language_info": {
   "codemirror_mode": {
    "name": "ipython",
    "version": 3
   },
   "file_extension": ".py",
   "mimetype": "text/x-python",
   "name": "python",
   "nbconvert_exporter": "python",
   "pygments_lexer": "ipython3",
   "version": "3.7.3"
  }
 },
 "nbformat": 4,
 "nbformat_minor": 2
}
